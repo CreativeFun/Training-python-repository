{
  "nbformat": 4,
  "nbformat_minor": 0,
  "metadata": {
    "colab": {
      "provenance": [],
      "authorship_tag": "ABX9TyND9HtpjUDqObtWjcBMf/e2",
      "include_colab_link": true
    },
    "kernelspec": {
      "name": "python3",
      "display_name": "Python 3"
    },
    "language_info": {
      "name": "python"
    }
  },
  "cells": [
    {
      "cell_type": "markdown",
      "metadata": {
        "id": "view-in-github",
        "colab_type": "text"
      },
      "source": [
        "<a href=\"https://colab.research.google.com/github/CreativeFun/Training-python-repository/blob/main/PyTestCollab.ipynb\" target=\"_parent\"><img src=\"https://colab.research.google.com/assets/colab-badge.svg\" alt=\"Open In Colab\"/></a>"
      ]
    },
    {
      "cell_type": "code",
      "execution_count": 3,
      "metadata": {
        "id": "jr_n_0oNZ1rg"
      },
      "outputs": [],
      "source": [
        "import pytest\n",
        "import requests"
      ]
    },
    {
      "cell_type": "code",
      "source": [
        "# Uruchamianie testów\n",
        "!pytest tests"
      ],
      "metadata": {
        "colab": {
          "base_uri": "https://localhost:8080/"
        },
        "id": "o407n557dS20",
        "outputId": "2c04defd-63cc-40d8-ce7c-76ec2733e3a5"
      },
      "execution_count": 22,
      "outputs": [
        {
          "output_type": "stream",
          "name": "stdout",
          "text": [
            "\u001b[1m======================================= test session starts ========================================\u001b[0m\n",
            "platform linux -- Python 3.10.12, pytest-7.4.4, pluggy-1.4.0\n",
            "rootdir: /content\n",
            "plugins: anyio-3.7.1\n",
            "collected 1 item / 1 error                                                                         \u001b[0m\n",
            "\n",
            "============================================== ERRORS ==============================================\n",
            "\u001b[31m\u001b[1m_____________________________ ERROR collecting tests/test_security.py ______________________________\u001b[0m\n",
            "\u001b[1m\u001b[31m/usr/local/lib/python3.10/dist-packages/urllib3/connectionpool.py\u001b[0m:468: in _make_request\n",
            "    \u001b[96mself\u001b[39;49;00m._validate_conn(conn)\u001b[90m\u001b[39;49;00m\n",
            "\u001b[1m\u001b[31m/usr/local/lib/python3.10/dist-packages/urllib3/connectionpool.py\u001b[0m:1097: in _validate_conn\n",
            "    conn.connect()\u001b[90m\u001b[39;49;00m\n",
            "\u001b[1m\u001b[31m/usr/local/lib/python3.10/dist-packages/urllib3/connection.py\u001b[0m:642: in connect\n",
            "    sock_and_verified = _ssl_wrap_socket_and_match_hostname(\u001b[90m\u001b[39;49;00m\n",
            "\u001b[1m\u001b[31m/usr/local/lib/python3.10/dist-packages/urllib3/connection.py\u001b[0m:783: in _ssl_wrap_socket_and_match_hostname\n",
            "    ssl_sock = ssl_wrap_socket(\u001b[90m\u001b[39;49;00m\n",
            "\u001b[1m\u001b[31m/usr/local/lib/python3.10/dist-packages/urllib3/util/ssl_.py\u001b[0m:471: in ssl_wrap_socket\n",
            "    ssl_sock = _ssl_wrap_socket_impl(sock, context, tls_in_tls, server_hostname)\u001b[90m\u001b[39;49;00m\n",
            "\u001b[1m\u001b[31m/usr/local/lib/python3.10/dist-packages/urllib3/util/ssl_.py\u001b[0m:515: in _ssl_wrap_socket_impl\n",
            "    \u001b[94mreturn\u001b[39;49;00m ssl_context.wrap_socket(sock, server_hostname=server_hostname)\u001b[90m\u001b[39;49;00m\n",
            "\u001b[1m\u001b[31m/usr/lib/python3.10/ssl.py\u001b[0m:513: in wrap_socket\n",
            "    \u001b[94mreturn\u001b[39;49;00m \u001b[96mself\u001b[39;49;00m.sslsocket_class._create(\u001b[90m\u001b[39;49;00m\n",
            "\u001b[1m\u001b[31m/usr/lib/python3.10/ssl.py\u001b[0m:1100: in _create\n",
            "    \u001b[96mself\u001b[39;49;00m.do_handshake()\u001b[90m\u001b[39;49;00m\n",
            "\u001b[1m\u001b[31m/usr/lib/python3.10/ssl.py\u001b[0m:1371: in do_handshake\n",
            "    \u001b[96mself\u001b[39;49;00m._sslobj.do_handshake()\u001b[90m\u001b[39;49;00m\n",
            "\u001b[1m\u001b[31mE   ssl.SSLCertVerificationError: [SSL: CERTIFICATE_VERIFY_FAILED] certificate verify failed: self-signed certificate (_ssl.c:1007)\u001b[0m\n",
            "\n",
            "\u001b[33mDuring handling of the above exception, another exception occurred:\u001b[0m\n",
            "\u001b[1m\u001b[31m/usr/local/lib/python3.10/dist-packages/urllib3/connectionpool.py\u001b[0m:791: in urlopen\n",
            "    response = \u001b[96mself\u001b[39;49;00m._make_request(\u001b[90m\u001b[39;49;00m\n",
            "\u001b[1m\u001b[31m/usr/local/lib/python3.10/dist-packages/urllib3/connectionpool.py\u001b[0m:492: in _make_request\n",
            "    \u001b[94mraise\u001b[39;49;00m new_e\u001b[90m\u001b[39;49;00m\n",
            "\u001b[1m\u001b[31mE   urllib3.exceptions.SSLError: [SSL: CERTIFICATE_VERIFY_FAILED] certificate verify failed: self-signed certificate (_ssl.c:1007)\u001b[0m\n",
            "\n",
            "\u001b[33mThe above exception was the direct cause of the following exception:\u001b[0m\n",
            "\u001b[1m\u001b[31m/usr/local/lib/python3.10/dist-packages/requests/adapters.py\u001b[0m:486: in send\n",
            "    resp = conn.urlopen(\u001b[90m\u001b[39;49;00m\n",
            "\u001b[1m\u001b[31m/usr/local/lib/python3.10/dist-packages/urllib3/connectionpool.py\u001b[0m:845: in urlopen\n",
            "    retries = retries.increment(\u001b[90m\u001b[39;49;00m\n",
            "\u001b[1m\u001b[31m/usr/local/lib/python3.10/dist-packages/urllib3/util/retry.py\u001b[0m:515: in increment\n",
            "    \u001b[94mraise\u001b[39;49;00m MaxRetryError(_pool, url, reason) \u001b[94mfrom\u001b[39;49;00m \u001b[04m\u001b[96mreason\u001b[39;49;00m  \u001b[90m# type: ignore[arg-type]\u001b[39;49;00m\u001b[90m\u001b[39;49;00m\n",
            "\u001b[1m\u001b[31mE   urllib3.exceptions.MaxRetryError: HTTPSConnectionPool(host='www.przykladowastrona.pl', port=443): Max retries exceeded with url: / (Caused by SSLError(SSLCertVerificationError(1, '[SSL: CERTIFICATE_VERIFY_FAILED] certificate verify failed: self-signed certificate (_ssl.c:1007)')))\u001b[0m\n",
            "\n",
            "\u001b[33mDuring handling of the above exception, another exception occurred:\u001b[0m\n",
            "\u001b[1m\u001b[31mtests/test_security.py\u001b[0m:45: in <module>\n",
            "    vulnerabilities = test_security(url)\u001b[90m\u001b[39;49;00m\n",
            "\u001b[1m\u001b[31mtests/test_security.py\u001b[0m:16: in test_security\n",
            "    response = requests.get(url)\u001b[90m\u001b[39;49;00m\n",
            "\u001b[1m\u001b[31m/usr/local/lib/python3.10/dist-packages/requests/api.py\u001b[0m:73: in get\n",
            "    \u001b[94mreturn\u001b[39;49;00m request(\u001b[33m\"\u001b[39;49;00m\u001b[33mget\u001b[39;49;00m\u001b[33m\"\u001b[39;49;00m, url, params=params, **kwargs)\u001b[90m\u001b[39;49;00m\n",
            "\u001b[1m\u001b[31m/usr/local/lib/python3.10/dist-packages/requests/api.py\u001b[0m:59: in request\n",
            "    \u001b[94mreturn\u001b[39;49;00m session.request(method=method, url=url, **kwargs)\u001b[90m\u001b[39;49;00m\n",
            "\u001b[1m\u001b[31m/usr/local/lib/python3.10/dist-packages/requests/sessions.py\u001b[0m:589: in request\n",
            "    resp = \u001b[96mself\u001b[39;49;00m.send(prep, **send_kwargs)\u001b[90m\u001b[39;49;00m\n",
            "\u001b[1m\u001b[31m/usr/local/lib/python3.10/dist-packages/requests/sessions.py\u001b[0m:703: in send\n",
            "    r = adapter.send(request, **kwargs)\u001b[90m\u001b[39;49;00m\n",
            "\u001b[1m\u001b[31m/usr/local/lib/python3.10/dist-packages/requests/adapters.py\u001b[0m:517: in send\n",
            "    \u001b[94mraise\u001b[39;49;00m SSLError(e, request=request)\u001b[90m\u001b[39;49;00m\n",
            "\u001b[1m\u001b[31mE   requests.exceptions.SSLError: HTTPSConnectionPool(host='www.przykladowastrona.pl', port=443): Max retries exceeded with url: / (Caused by SSLError(SSLCertVerificationError(1, '[SSL: CERTIFICATE_VERIFY_FAILED] certificate verify failed: self-signed certificate (_ssl.c:1007)')))\u001b[0m\n",
            "\u001b[36m\u001b[1m===================================== short test summary info ======================================\u001b[0m\n",
            "\u001b[31mERROR\u001b[0m tests/test_security.py - requests.exceptions.SSLError: HTTPSConnectionPool(host='www.przykladowastrona.pl', port=443): M...\n",
            "!!!!!!!!!!!!!!!!!!!!!!!!!!!!!! Interrupted: 1 error during collection !!!!!!!!!!!!!!!!!!!!!!!!!!!!!!\n",
            "\u001b[31m========================================= \u001b[31m\u001b[1m1 error\u001b[0m\u001b[31m in 1.26s\u001b[0m\u001b[31m =========================================\u001b[0m\n"
          ]
        }
      ]
    }
  ]
}